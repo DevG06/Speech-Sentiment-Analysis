{
 "cells": [
  {
   "cell_type": "code",
   "execution_count": 1,
   "metadata": {},
   "outputs": [],
   "source": [
    "import keras\n",
    "import tensorflow as tf\n",
    "import librosa\n",
    "import numpy as np\n",
    "import scipy\n",
    "from sklearn.preprocessing import StandardScaler\n",
    "import pandas as pd"
   ]
  },
  {
   "cell_type": "code",
   "execution_count": 2,
   "metadata": {},
   "outputs": [
    {
     "name": "stderr",
     "output_type": "stream",
     "text": [
      "c:\\Users\\devar\\miniconda3\\envs\\streamlit\\Lib\\site-packages\\keras\\src\\saving\\saving_lib.py:576: UserWarning: Skipping variable loading for optimizer 'adam', because it has 26 variables whereas the saved optimizer has 25 variables. \n",
      "  saveable.load_own_variables(weights_store.get(inner_path))\n"
     ]
    },
    {
     "data": {
      "text/html": [
       "<pre style=\"white-space:pre;overflow-x:auto;line-height:normal;font-family:Menlo,'DejaVu Sans Mono',consolas,'Courier New',monospace\"><span style=\"font-weight: bold\">Model: \"sequential_7\"</span>\n",
       "</pre>\n"
      ],
      "text/plain": [
       "\u001b[1mModel: \"sequential_7\"\u001b[0m\n"
      ]
     },
     "metadata": {},
     "output_type": "display_data"
    },
    {
     "data": {
      "text/html": [
       "<pre style=\"white-space:pre;overflow-x:auto;line-height:normal;font-family:Menlo,'DejaVu Sans Mono',consolas,'Courier New',monospace\">┏━━━━━━━━━━━━━━━━━━━━━━━━━━━━━━━━━┳━━━━━━━━━━━━━━━━━━━━━━━━┳━━━━━━━━━━━━━━━┓\n",
       "┃<span style=\"font-weight: bold\"> Layer (type)                    </span>┃<span style=\"font-weight: bold\"> Output Shape           </span>┃<span style=\"font-weight: bold\">       Param # </span>┃\n",
       "┡━━━━━━━━━━━━━━━━━━━━━━━━━━━━━━━━━╇━━━━━━━━━━━━━━━━━━━━━━━━╇━━━━━━━━━━━━━━━┩\n",
       "│ conv1d_28 (<span style=\"color: #0087ff; text-decoration-color: #0087ff\">Conv1D</span>)              │ (<span style=\"color: #00d7ff; text-decoration-color: #00d7ff\">None</span>, <span style=\"color: #00af00; text-decoration-color: #00af00\">154</span>, <span style=\"color: #00af00; text-decoration-color: #00af00\">512</span>)       │         <span style=\"color: #00af00; text-decoration-color: #00af00\">3,072</span> │\n",
       "├─────────────────────────────────┼────────────────────────┼───────────────┤\n",
       "│ max_pooling1d_28 (<span style=\"color: #0087ff; text-decoration-color: #0087ff\">MaxPooling1D</span>) │ (<span style=\"color: #00d7ff; text-decoration-color: #00d7ff\">None</span>, <span style=\"color: #00af00; text-decoration-color: #00af00\">77</span>, <span style=\"color: #00af00; text-decoration-color: #00af00\">512</span>)        │             <span style=\"color: #00af00; text-decoration-color: #00af00\">0</span> │\n",
       "├─────────────────────────────────┼────────────────────────┼───────────────┤\n",
       "│ conv1d_29 (<span style=\"color: #0087ff; text-decoration-color: #0087ff\">Conv1D</span>)              │ (<span style=\"color: #00d7ff; text-decoration-color: #00d7ff\">None</span>, <span style=\"color: #00af00; text-decoration-color: #00af00\">77</span>, <span style=\"color: #00af00; text-decoration-color: #00af00\">256</span>)        │       <span style=\"color: #00af00; text-decoration-color: #00af00\">655,616</span> │\n",
       "├─────────────────────────────────┼────────────────────────┼───────────────┤\n",
       "│ max_pooling1d_29 (<span style=\"color: #0087ff; text-decoration-color: #0087ff\">MaxPooling1D</span>) │ (<span style=\"color: #00d7ff; text-decoration-color: #00d7ff\">None</span>, <span style=\"color: #00af00; text-decoration-color: #00af00\">39</span>, <span style=\"color: #00af00; text-decoration-color: #00af00\">256</span>)        │             <span style=\"color: #00af00; text-decoration-color: #00af00\">0</span> │\n",
       "├─────────────────────────────────┼────────────────────────┼───────────────┤\n",
       "│ conv1d_30 (<span style=\"color: #0087ff; text-decoration-color: #0087ff\">Conv1D</span>)              │ (<span style=\"color: #00d7ff; text-decoration-color: #00d7ff\">None</span>, <span style=\"color: #00af00; text-decoration-color: #00af00\">39</span>, <span style=\"color: #00af00; text-decoration-color: #00af00\">128</span>)        │       <span style=\"color: #00af00; text-decoration-color: #00af00\">163,968</span> │\n",
       "├─────────────────────────────────┼────────────────────────┼───────────────┤\n",
       "│ max_pooling1d_30 (<span style=\"color: #0087ff; text-decoration-color: #0087ff\">MaxPooling1D</span>) │ (<span style=\"color: #00d7ff; text-decoration-color: #00d7ff\">None</span>, <span style=\"color: #00af00; text-decoration-color: #00af00\">20</span>, <span style=\"color: #00af00; text-decoration-color: #00af00\">128</span>)        │             <span style=\"color: #00af00; text-decoration-color: #00af00\">0</span> │\n",
       "├─────────────────────────────────┼────────────────────────┼───────────────┤\n",
       "│ dropout_14 (<span style=\"color: #0087ff; text-decoration-color: #0087ff\">Dropout</span>)            │ (<span style=\"color: #00d7ff; text-decoration-color: #00d7ff\">None</span>, <span style=\"color: #00af00; text-decoration-color: #00af00\">20</span>, <span style=\"color: #00af00; text-decoration-color: #00af00\">128</span>)        │             <span style=\"color: #00af00; text-decoration-color: #00af00\">0</span> │\n",
       "├─────────────────────────────────┼────────────────────────┼───────────────┤\n",
       "│ conv1d_31 (<span style=\"color: #0087ff; text-decoration-color: #0087ff\">Conv1D</span>)              │ (<span style=\"color: #00d7ff; text-decoration-color: #00d7ff\">None</span>, <span style=\"color: #00af00; text-decoration-color: #00af00\">20</span>, <span style=\"color: #00af00; text-decoration-color: #00af00\">64</span>)         │        <span style=\"color: #00af00; text-decoration-color: #00af00\">41,024</span> │\n",
       "├─────────────────────────────────┼────────────────────────┼───────────────┤\n",
       "│ max_pooling1d_31 (<span style=\"color: #0087ff; text-decoration-color: #0087ff\">MaxPooling1D</span>) │ (<span style=\"color: #00d7ff; text-decoration-color: #00d7ff\">None</span>, <span style=\"color: #00af00; text-decoration-color: #00af00\">10</span>, <span style=\"color: #00af00; text-decoration-color: #00af00\">64</span>)         │             <span style=\"color: #00af00; text-decoration-color: #00af00\">0</span> │\n",
       "├─────────────────────────────────┼────────────────────────┼───────────────┤\n",
       "│ flatten_6 (<span style=\"color: #0087ff; text-decoration-color: #0087ff\">Flatten</span>)             │ (<span style=\"color: #00d7ff; text-decoration-color: #00d7ff\">None</span>, <span style=\"color: #00af00; text-decoration-color: #00af00\">640</span>)            │             <span style=\"color: #00af00; text-decoration-color: #00af00\">0</span> │\n",
       "├─────────────────────────────────┼────────────────────────┼───────────────┤\n",
       "│ dense_14 (<span style=\"color: #0087ff; text-decoration-color: #0087ff\">Dense</span>)                │ (<span style=\"color: #00d7ff; text-decoration-color: #00d7ff\">None</span>, <span style=\"color: #00af00; text-decoration-color: #00af00\">128</span>)            │        <span style=\"color: #00af00; text-decoration-color: #00af00\">82,048</span> │\n",
       "├─────────────────────────────────┼────────────────────────┼───────────────┤\n",
       "│ dropout_15 (<span style=\"color: #0087ff; text-decoration-color: #0087ff\">Dropout</span>)            │ (<span style=\"color: #00d7ff; text-decoration-color: #00d7ff\">None</span>, <span style=\"color: #00af00; text-decoration-color: #00af00\">128</span>)            │             <span style=\"color: #00af00; text-decoration-color: #00af00\">0</span> │\n",
       "├─────────────────────────────────┼────────────────────────┼───────────────┤\n",
       "│ dense_15 (<span style=\"color: #0087ff; text-decoration-color: #0087ff\">Dense</span>)                │ (<span style=\"color: #00d7ff; text-decoration-color: #00d7ff\">None</span>, <span style=\"color: #00af00; text-decoration-color: #00af00\">7</span>)              │           <span style=\"color: #00af00; text-decoration-color: #00af00\">903</span> │\n",
       "└─────────────────────────────────┴────────────────────────┴───────────────┘\n",
       "</pre>\n"
      ],
      "text/plain": [
       "┏━━━━━━━━━━━━━━━━━━━━━━━━━━━━━━━━━┳━━━━━━━━━━━━━━━━━━━━━━━━┳━━━━━━━━━━━━━━━┓\n",
       "┃\u001b[1m \u001b[0m\u001b[1mLayer (type)                   \u001b[0m\u001b[1m \u001b[0m┃\u001b[1m \u001b[0m\u001b[1mOutput Shape          \u001b[0m\u001b[1m \u001b[0m┃\u001b[1m \u001b[0m\u001b[1m      Param #\u001b[0m\u001b[1m \u001b[0m┃\n",
       "┡━━━━━━━━━━━━━━━━━━━━━━━━━━━━━━━━━╇━━━━━━━━━━━━━━━━━━━━━━━━╇━━━━━━━━━━━━━━━┩\n",
       "│ conv1d_28 (\u001b[38;5;33mConv1D\u001b[0m)              │ (\u001b[38;5;45mNone\u001b[0m, \u001b[38;5;34m154\u001b[0m, \u001b[38;5;34m512\u001b[0m)       │         \u001b[38;5;34m3,072\u001b[0m │\n",
       "├─────────────────────────────────┼────────────────────────┼───────────────┤\n",
       "│ max_pooling1d_28 (\u001b[38;5;33mMaxPooling1D\u001b[0m) │ (\u001b[38;5;45mNone\u001b[0m, \u001b[38;5;34m77\u001b[0m, \u001b[38;5;34m512\u001b[0m)        │             \u001b[38;5;34m0\u001b[0m │\n",
       "├─────────────────────────────────┼────────────────────────┼───────────────┤\n",
       "│ conv1d_29 (\u001b[38;5;33mConv1D\u001b[0m)              │ (\u001b[38;5;45mNone\u001b[0m, \u001b[38;5;34m77\u001b[0m, \u001b[38;5;34m256\u001b[0m)        │       \u001b[38;5;34m655,616\u001b[0m │\n",
       "├─────────────────────────────────┼────────────────────────┼───────────────┤\n",
       "│ max_pooling1d_29 (\u001b[38;5;33mMaxPooling1D\u001b[0m) │ (\u001b[38;5;45mNone\u001b[0m, \u001b[38;5;34m39\u001b[0m, \u001b[38;5;34m256\u001b[0m)        │             \u001b[38;5;34m0\u001b[0m │\n",
       "├─────────────────────────────────┼────────────────────────┼───────────────┤\n",
       "│ conv1d_30 (\u001b[38;5;33mConv1D\u001b[0m)              │ (\u001b[38;5;45mNone\u001b[0m, \u001b[38;5;34m39\u001b[0m, \u001b[38;5;34m128\u001b[0m)        │       \u001b[38;5;34m163,968\u001b[0m │\n",
       "├─────────────────────────────────┼────────────────────────┼───────────────┤\n",
       "│ max_pooling1d_30 (\u001b[38;5;33mMaxPooling1D\u001b[0m) │ (\u001b[38;5;45mNone\u001b[0m, \u001b[38;5;34m20\u001b[0m, \u001b[38;5;34m128\u001b[0m)        │             \u001b[38;5;34m0\u001b[0m │\n",
       "├─────────────────────────────────┼────────────────────────┼───────────────┤\n",
       "│ dropout_14 (\u001b[38;5;33mDropout\u001b[0m)            │ (\u001b[38;5;45mNone\u001b[0m, \u001b[38;5;34m20\u001b[0m, \u001b[38;5;34m128\u001b[0m)        │             \u001b[38;5;34m0\u001b[0m │\n",
       "├─────────────────────────────────┼────────────────────────┼───────────────┤\n",
       "│ conv1d_31 (\u001b[38;5;33mConv1D\u001b[0m)              │ (\u001b[38;5;45mNone\u001b[0m, \u001b[38;5;34m20\u001b[0m, \u001b[38;5;34m64\u001b[0m)         │        \u001b[38;5;34m41,024\u001b[0m │\n",
       "├─────────────────────────────────┼────────────────────────┼───────────────┤\n",
       "│ max_pooling1d_31 (\u001b[38;5;33mMaxPooling1D\u001b[0m) │ (\u001b[38;5;45mNone\u001b[0m, \u001b[38;5;34m10\u001b[0m, \u001b[38;5;34m64\u001b[0m)         │             \u001b[38;5;34m0\u001b[0m │\n",
       "├─────────────────────────────────┼────────────────────────┼───────────────┤\n",
       "│ flatten_6 (\u001b[38;5;33mFlatten\u001b[0m)             │ (\u001b[38;5;45mNone\u001b[0m, \u001b[38;5;34m640\u001b[0m)            │             \u001b[38;5;34m0\u001b[0m │\n",
       "├─────────────────────────────────┼────────────────────────┼───────────────┤\n",
       "│ dense_14 (\u001b[38;5;33mDense\u001b[0m)                │ (\u001b[38;5;45mNone\u001b[0m, \u001b[38;5;34m128\u001b[0m)            │        \u001b[38;5;34m82,048\u001b[0m │\n",
       "├─────────────────────────────────┼────────────────────────┼───────────────┤\n",
       "│ dropout_15 (\u001b[38;5;33mDropout\u001b[0m)            │ (\u001b[38;5;45mNone\u001b[0m, \u001b[38;5;34m128\u001b[0m)            │             \u001b[38;5;34m0\u001b[0m │\n",
       "├─────────────────────────────────┼────────────────────────┼───────────────┤\n",
       "│ dense_15 (\u001b[38;5;33mDense\u001b[0m)                │ (\u001b[38;5;45mNone\u001b[0m, \u001b[38;5;34m7\u001b[0m)              │           \u001b[38;5;34m903\u001b[0m │\n",
       "└─────────────────────────────────┴────────────────────────┴───────────────┘\n"
      ]
     },
     "metadata": {},
     "output_type": "display_data"
    },
    {
     "data": {
      "text/html": [
       "<pre style=\"white-space:pre;overflow-x:auto;line-height:normal;font-family:Menlo,'DejaVu Sans Mono',consolas,'Courier New',monospace\"><span style=\"font-weight: bold\"> Total params: </span><span style=\"color: #00af00; text-decoration-color: #00af00\">2,839,895</span> (10.83 MB)\n",
       "</pre>\n"
      ],
      "text/plain": [
       "\u001b[1m Total params: \u001b[0m\u001b[38;5;34m2,839,895\u001b[0m (10.83 MB)\n"
      ]
     },
     "metadata": {},
     "output_type": "display_data"
    },
    {
     "data": {
      "text/html": [
       "<pre style=\"white-space:pre;overflow-x:auto;line-height:normal;font-family:Menlo,'DejaVu Sans Mono',consolas,'Courier New',monospace\"><span style=\"font-weight: bold\"> Trainable params: </span><span style=\"color: #00af00; text-decoration-color: #00af00\">946,631</span> (3.61 MB)\n",
       "</pre>\n"
      ],
      "text/plain": [
       "\u001b[1m Trainable params: \u001b[0m\u001b[38;5;34m946,631\u001b[0m (3.61 MB)\n"
      ]
     },
     "metadata": {},
     "output_type": "display_data"
    },
    {
     "data": {
      "text/html": [
       "<pre style=\"white-space:pre;overflow-x:auto;line-height:normal;font-family:Menlo,'DejaVu Sans Mono',consolas,'Courier New',monospace\"><span style=\"font-weight: bold\"> Non-trainable params: </span><span style=\"color: #00af00; text-decoration-color: #00af00\">0</span> (0.00 B)\n",
       "</pre>\n"
      ],
      "text/plain": [
       "\u001b[1m Non-trainable params: \u001b[0m\u001b[38;5;34m0\u001b[0m (0.00 B)\n"
      ]
     },
     "metadata": {},
     "output_type": "display_data"
    },
    {
     "data": {
      "text/html": [
       "<pre style=\"white-space:pre;overflow-x:auto;line-height:normal;font-family:Menlo,'DejaVu Sans Mono',consolas,'Courier New',monospace\"><span style=\"font-weight: bold\"> Optimizer params: </span><span style=\"color: #00af00; text-decoration-color: #00af00\">1,893,264</span> (7.22 MB)\n",
       "</pre>\n"
      ],
      "text/plain": [
       "\u001b[1m Optimizer params: \u001b[0m\u001b[38;5;34m1,893,264\u001b[0m (7.22 MB)\n"
      ]
     },
     "metadata": {},
     "output_type": "display_data"
    }
   ],
   "source": [
    "model_path = '../models/model_2/CNN_model.keras'\n",
    "model = keras.models.load_model(model_path)\n",
    "model.summary()"
   ]
  },
  {
   "cell_type": "code",
   "execution_count": 3,
   "metadata": {},
   "outputs": [],
   "source": [
    "# Function to extract features\n",
    "def extract_features(data_path):\n",
    "    \n",
    "    data, sample_rate = librosa.load(data_path)\n",
    "\n",
    "    # MFCCs\n",
    "    mfcc = np.mean(librosa.feature.mfcc(y=data, sr=sample_rate).T, axis=0)\n",
    "\n",
    "    # Energy\n",
    "    energy = np.mean(librosa.feature.rms(y=data).T, axis=0)\n",
    "\n",
    "    # Entropy of energy (computed as entropy of the short-term energy)\n",
    "    st_energy = librosa.feature.rms(y=data, frame_length=2048, hop_length=512)\n",
    "    entropy_of_energy = np.mean([scipy.stats.entropy(e) for e in st_energy])\n",
    "\n",
    "    # Zero Crossing Rate\n",
    "    zcr = np.mean(librosa.feature.zero_crossing_rate(y=data).T, axis=0)\n",
    "\n",
    "    # Mel-Spectrogram\n",
    "    mel = np.mean(librosa.feature.melspectrogram(y=data, sr=sample_rate).T, axis=0)\n",
    "\n",
    "    # Spectral Centroid\n",
    "    spectral_centroid = np.mean(librosa.feature.spectral_centroid(y=data, sr=sample_rate).T, axis=0)\n",
    "\n",
    "    # Spectral Spread\n",
    "    spectral_spread = np.mean(librosa.feature.spectral_bandwidth(y=data, sr=sample_rate).T, axis=0)\n",
    "\n",
    "    # Spectral Roll-off\n",
    "    spectral_rolloff = np.mean(librosa.feature.spectral_rolloff(y=data, sr=sample_rate).T, axis=0)\n",
    "\n",
    "    # Concatenate all features\n",
    "    features = np.hstack((mfcc, energy, entropy_of_energy, zcr, mel, spectral_centroid, spectral_spread, spectral_rolloff))\n",
    "    return features\n",
    "\n",
    "data_path = \"../data/input/Crema/1001_ITH_HAP_XX.wav\" \n",
    "X = tf.expand_dims(extract_features(data_path), axis=-1)\n"
   ]
  },
  {
   "cell_type": "code",
   "execution_count": 4,
   "metadata": {},
   "outputs": [
    {
     "data": {
      "text/plain": [
       "<tf.Tensor: shape=(154, 1), dtype=float64, numpy=\n",
       "array([[-3.33686249e+02],\n",
       "       [ 1.34182343e+02],\n",
       "       [-1.76158257e+01],\n",
       "       [ 3.33083267e+01],\n",
       "       [-3.09888911e+00],\n",
       "       [ 1.72047558e+01],\n",
       "       [-2.16867905e+01],\n",
       "       [-1.60438418e+00],\n",
       "       [-1.15475712e+01],\n",
       "       [-3.25284386e+00],\n",
       "       [-8.61373138e+00],\n",
       "       [-1.05538547e+00],\n",
       "       [-3.13319659e+00],\n",
       "       [-1.62905235e+01],\n",
       "       [ 4.48697329e+00],\n",
       "       [-1.32159090e+01],\n",
       "       [-3.66729069e+00],\n",
       "       [-8.12562656e+00],\n",
       "       [-3.49940681e+00],\n",
       "       [-6.82263470e+00],\n",
       "       [ 3.69887985e-02],\n",
       "       [ 4.09885053e+00],\n",
       "       [ 6.44211814e-02],\n",
       "       [ 2.10046535e-03],\n",
       "       [ 8.35992210e-03],\n",
       "       [ 3.35056745e-02],\n",
       "       [ 2.60696709e-01],\n",
       "       [ 1.14967811e+00],\n",
       "       [ 1.84425807e+00],\n",
       "       [ 9.27966177e-01],\n",
       "       [ 1.76566517e+00],\n",
       "       [ 1.17489171e+00],\n",
       "       [ 8.97790074e-01],\n",
       "       [ 1.35326648e+00],\n",
       "       [ 1.77778673e+00],\n",
       "       [ 9.87669349e-01],\n",
       "       [ 1.12107909e+00],\n",
       "       [ 2.01774192e+00],\n",
       "       [ 1.25853431e+00],\n",
       "       [ 4.76476097e+00],\n",
       "       [ 4.94589424e+00],\n",
       "       [ 1.83708906e+00],\n",
       "       [ 1.74523473e+00],\n",
       "       [ 1.25608194e+00],\n",
       "       [ 1.40090895e+00],\n",
       "       [ 2.34743142e+00],\n",
       "       [ 5.64866590e+00],\n",
       "       [ 6.49016094e+00],\n",
       "       [ 8.21872294e-01],\n",
       "       [ 4.14860010e-01],\n",
       "       [ 8.86707544e-01],\n",
       "       [ 2.13513517e+00],\n",
       "       [ 1.61649299e+00],\n",
       "       [ 2.89499354e+00],\n",
       "       [ 1.10228801e+00],\n",
       "       [ 6.07718825e-01],\n",
       "       [ 4.50842351e-01],\n",
       "       [ 3.08127582e-01],\n",
       "       [ 3.28616947e-01],\n",
       "       [ 3.57079715e-01],\n",
       "       [ 6.09536588e-01],\n",
       "       [ 1.42354846e-01],\n",
       "       [ 1.37320384e-01],\n",
       "       [ 2.59331763e-01],\n",
       "       [ 8.00301015e-01],\n",
       "       [ 8.49038303e-01],\n",
       "       [ 7.41585612e-01],\n",
       "       [ 1.40818226e+00],\n",
       "       [ 1.43548977e+00],\n",
       "       [ 2.58477449e+00],\n",
       "       [ 2.28341055e+00],\n",
       "       [ 1.03364885e+00],\n",
       "       [ 3.28825265e-01],\n",
       "       [ 4.89839971e-01],\n",
       "       [ 8.55076075e-01],\n",
       "       [ 1.30497575e+00],\n",
       "       [ 5.00413358e-01],\n",
       "       [ 1.18313336e+00],\n",
       "       [ 1.06660843e+00],\n",
       "       [ 1.99540272e-01],\n",
       "       [ 3.08702141e-01],\n",
       "       [ 4.97742385e-01],\n",
       "       [ 2.09231064e-01],\n",
       "       [ 9.45973098e-02],\n",
       "       [ 2.85983592e-01],\n",
       "       [ 2.28346944e-01],\n",
       "       [ 1.14328109e-01],\n",
       "       [ 2.12012798e-01],\n",
       "       [ 1.14055403e-01],\n",
       "       [ 9.00115892e-02],\n",
       "       [ 2.67865002e-01],\n",
       "       [ 2.00664312e-01],\n",
       "       [ 1.61280751e-01],\n",
       "       [ 3.39838505e-01],\n",
       "       [ 2.06244320e-01],\n",
       "       [ 1.95990846e-01],\n",
       "       [ 1.46019056e-01],\n",
       "       [ 1.24813952e-01],\n",
       "       [ 7.50147477e-02],\n",
       "       [ 1.71316117e-02],\n",
       "       [ 1.49250729e-02],\n",
       "       [ 8.04241933e-03],\n",
       "       [ 8.40362068e-03],\n",
       "       [ 1.21211139e-02],\n",
       "       [ 1.71654820e-02],\n",
       "       [ 1.19324354e-02],\n",
       "       [ 1.57134719e-02],\n",
       "       [ 1.01754777e-02],\n",
       "       [ 6.36358745e-03],\n",
       "       [ 1.29853981e-02],\n",
       "       [ 1.50994873e-02],\n",
       "       [ 2.34580524e-02],\n",
       "       [ 1.23430090e-02],\n",
       "       [ 2.07915064e-02],\n",
       "       [ 2.48788763e-02],\n",
       "       [ 1.55843319e-02],\n",
       "       [ 1.95546001e-02],\n",
       "       [ 1.18732378e-02],\n",
       "       [ 1.15520274e-02],\n",
       "       [ 3.53977387e-03],\n",
       "       [ 1.43108563e-03],\n",
       "       [ 1.08632399e-03],\n",
       "       [ 1.79094006e-03],\n",
       "       [ 1.61199959e-03],\n",
       "       [ 1.59178732e-03],\n",
       "       [ 1.55848044e-03],\n",
       "       [ 1.04642205e-03],\n",
       "       [ 1.35689066e-03],\n",
       "       [ 1.22403388e-03],\n",
       "       [ 1.57066341e-03],\n",
       "       [ 1.93656329e-03],\n",
       "       [ 2.25965749e-03],\n",
       "       [ 3.10785603e-03],\n",
       "       [ 4.09848522e-03],\n",
       "       [ 3.23944283e-03],\n",
       "       [ 2.06541177e-03],\n",
       "       [ 2.34158221e-03],\n",
       "       [ 1.67255220e-03],\n",
       "       [ 7.61195188e-05],\n",
       "       [ 3.64686805e-08],\n",
       "       [ 1.95781613e-09],\n",
       "       [ 1.75529347e-09],\n",
       "       [ 1.61847380e-09],\n",
       "       [ 1.51822066e-09],\n",
       "       [ 1.44583512e-09],\n",
       "       [ 1.39107814e-09],\n",
       "       [ 1.34989597e-09],\n",
       "       [ 1.32031341e-09],\n",
       "       [ 1.29869548e-09],\n",
       "       [ 1.28482047e-09],\n",
       "       [ 1.27612909e-09],\n",
       "       [ 1.36712477e+03],\n",
       "       [ 1.62379797e+03],\n",
       "       [ 2.63610680e+03]])>"
      ]
     },
     "execution_count": 4,
     "metadata": {},
     "output_type": "execute_result"
    }
   ],
   "source": [
    "X"
   ]
  },
  {
   "cell_type": "code",
   "execution_count": 5,
   "metadata": {},
   "outputs": [
    {
     "data": {
      "text/plain": [
       "array([[-1.35669248e+00],\n",
       "       [ 3.63309716e-01],\n",
       "       [-1.94738392e-01],\n",
       "       [-7.52844585e-03],\n",
       "       [-1.41370495e-01],\n",
       "       [-6.67292082e-02],\n",
       "       [-2.09704279e-01],\n",
       "       [-1.35876320e-01],\n",
       "       [-1.72429968e-01],\n",
       "       [-1.41936471e-01],\n",
       "       [-1.61644437e-01],\n",
       "       [-1.33858064e-01],\n",
       "       [-1.41496618e-01],\n",
       "       [-1.89866249e-01],\n",
       "       [-1.13482964e-01],\n",
       "       [-1.78563196e-01],\n",
       "       [-1.43460082e-01],\n",
       "       [-1.59850042e-01],\n",
       "       [-1.42842898e-01],\n",
       "       [-1.55059917e-01],\n",
       "       [-1.29842222e-01],\n",
       "       [-1.14909800e-01],\n",
       "       [-1.29741374e-01],\n",
       "       [-1.29970480e-01],\n",
       "       [-1.29947469e-01],\n",
       "       [-1.29855027e-01],\n",
       "       [-1.29019816e-01],\n",
       "       [-1.25751697e-01],\n",
       "       [-1.23198247e-01],\n",
       "       [-1.26566766e-01],\n",
       "       [-1.23487174e-01],\n",
       "       [-1.25659006e-01],\n",
       "       [-1.26677701e-01],\n",
       "       [-1.25003255e-01],\n",
       "       [-1.23442613e-01],\n",
       "       [-1.26347282e-01],\n",
       "       [-1.25856834e-01],\n",
       "       [-1.22560477e-01],\n",
       "       [-1.25351515e-01],\n",
       "       [-1.12461747e-01],\n",
       "       [-1.11795855e-01],\n",
       "       [-1.23224602e-01],\n",
       "       [-1.23562282e-01],\n",
       "       [-1.25360530e-01],\n",
       "       [-1.24828110e-01],\n",
       "       [-1.21348456e-01],\n",
       "       [-1.09212291e-01],\n",
       "       [-1.06118744e-01],\n",
       "       [-1.26956794e-01],\n",
       "       [-1.28453073e-01],\n",
       "       [-1.26718443e-01],\n",
       "       [-1.22128910e-01],\n",
       "       [-1.24035569e-01],\n",
       "       [-1.19335480e-01],\n",
       "       [-1.25925915e-01],\n",
       "       [-1.27744075e-01],\n",
       "       [-1.28320793e-01],\n",
       "       [-1.28845448e-01],\n",
       "       [-1.28770124e-01],\n",
       "       [-1.28665488e-01],\n",
       "       [-1.27737393e-01],\n",
       "       [-1.29454870e-01],\n",
       "       [-1.29473378e-01],\n",
       "       [-1.29024834e-01],\n",
       "       [-1.27036095e-01],\n",
       "       [-1.26856925e-01],\n",
       "       [-1.27251948e-01],\n",
       "       [-1.24801371e-01],\n",
       "       [-1.24700982e-01],\n",
       "       [-1.20475923e-01],\n",
       "       [-1.21583813e-01],\n",
       "       [-1.26178250e-01],\n",
       "       [-1.28769358e-01],\n",
       "       [-1.28177428e-01],\n",
       "       [-1.26834728e-01],\n",
       "       [-1.25180784e-01],\n",
       "       [-1.28138557e-01],\n",
       "       [-1.25628707e-01],\n",
       "       [-1.26057082e-01],\n",
       "       [-1.29244642e-01],\n",
       "       [-1.28843336e-01],\n",
       "       [-1.28148376e-01],\n",
       "       [-1.29209016e-01],\n",
       "       [-1.29630439e-01],\n",
       "       [-1.28926855e-01],\n",
       "       [-1.29138741e-01],\n",
       "       [-1.29557903e-01],\n",
       "       [-1.29198790e-01],\n",
       "       [-1.29558906e-01],\n",
       "       [-1.29647297e-01],\n",
       "       [-1.28993463e-01],\n",
       "       [-1.29240510e-01],\n",
       "       [-1.29385294e-01],\n",
       "       [-1.28728871e-01],\n",
       "       [-1.29219996e-01],\n",
       "       [-1.29257691e-01],\n",
       "       [-1.29441399e-01],\n",
       "       [-1.29519355e-01],\n",
       "       [-1.29702429e-01],\n",
       "       [-1.29915222e-01],\n",
       "       [-1.29923334e-01],\n",
       "       [-1.29948636e-01],\n",
       "       [-1.29947308e-01],\n",
       "       [-1.29933642e-01],\n",
       "       [-1.29915097e-01],\n",
       "       [-1.29934335e-01],\n",
       "       [-1.29920435e-01],\n",
       "       [-1.29940794e-01],\n",
       "       [-1.29954808e-01],\n",
       "       [-1.29930465e-01],\n",
       "       [-1.29922693e-01],\n",
       "       [-1.29891964e-01],\n",
       "       [-1.29932826e-01],\n",
       "       [-1.29901767e-01],\n",
       "       [-1.29886741e-01],\n",
       "       [-1.29920910e-01],\n",
       "       [-1.29906314e-01],\n",
       "       [-1.29934553e-01],\n",
       "       [-1.29935734e-01],\n",
       "       [-1.29965189e-01],\n",
       "       [-1.29972941e-01],\n",
       "       [-1.29974208e-01],\n",
       "       [-1.29971618e-01],\n",
       "       [-1.29972276e-01],\n",
       "       [-1.29972350e-01],\n",
       "       [-1.29972473e-01],\n",
       "       [-1.29974355e-01],\n",
       "       [-1.29973214e-01],\n",
       "       [-1.29973702e-01],\n",
       "       [-1.29972428e-01],\n",
       "       [-1.29971083e-01],\n",
       "       [-1.29969895e-01],\n",
       "       [-1.29966777e-01],\n",
       "       [-1.29963135e-01],\n",
       "       [-1.29966293e-01],\n",
       "       [-1.29970609e-01],\n",
       "       [-1.29969594e-01],\n",
       "       [-1.29972053e-01],\n",
       "       [-1.29977922e-01],\n",
       "       [-1.29978202e-01],\n",
       "       [-1.29978202e-01],\n",
       "       [-1.29978202e-01],\n",
       "       [-1.29978202e-01],\n",
       "       [-1.29978202e-01],\n",
       "       [-1.29978202e-01],\n",
       "       [-1.29978202e-01],\n",
       "       [-1.29978202e-01],\n",
       "       [-1.29978202e-01],\n",
       "       [-1.29978202e-01],\n",
       "       [-1.29978202e-01],\n",
       "       [-1.29978202e-01],\n",
       "       [ 4.89591506e+00],\n",
       "       [ 5.83951006e+00],\n",
       "       [ 9.56101102e+00]])"
      ]
     },
     "execution_count": 5,
     "metadata": {},
     "output_type": "execute_result"
    }
   ],
   "source": [
    "# Scaling the data using StandardScaler\n",
    "scaler = StandardScaler()\n",
    "X = scaler.fit_transform(X)\n",
    "# X = tf.squeeze(X)\n",
    "X"
   ]
  },
  {
   "cell_type": "code",
   "execution_count": 11,
   "metadata": {},
   "outputs": [
    {
     "data": {
      "text/plain": [
       "TensorShape([1, 154, 1])"
      ]
     },
     "execution_count": 11,
     "metadata": {},
     "output_type": "execute_result"
    }
   ],
   "source": [
    "# Reshape \n",
    "X = tf.expand_dims(X, axis=0)\n",
    "X.shape"
   ]
  },
  {
   "cell_type": "code",
   "execution_count": 7,
   "metadata": {},
   "outputs": [],
   "source": [
    "# List of classes\n",
    "classes = ['angry', 'calm', 'disgust', 'fear', 'happy', 'sad', 'surprise']"
   ]
  },
  {
   "cell_type": "code",
   "execution_count": 12,
   "metadata": {},
   "outputs": [
    {
     "name": "stdout",
     "output_type": "stream",
     "text": [
      "\u001b[1m1/1\u001b[0m \u001b[32m━━━━━━━━━━━━━━━━━━━━\u001b[0m\u001b[37m\u001b[0m \u001b[1m0s\u001b[0m 93ms/step\n"
     ]
    }
   ],
   "source": [
    "pred = model.predict(X)"
   ]
  },
  {
   "cell_type": "code",
   "execution_count": 13,
   "metadata": {},
   "outputs": [
    {
     "data": {
      "text/plain": [
       "array([[0.12231044, 0.00413417, 0.10876969, 0.7255662 , 0.01023937,\n",
       "        0.0020535 , 0.02692665]], dtype=float32)"
      ]
     },
     "execution_count": 13,
     "metadata": {},
     "output_type": "execute_result"
    }
   ],
   "source": [
    "pred"
   ]
  }
 ],
 "metadata": {
  "kernelspec": {
   "display_name": "streamlit",
   "language": "python",
   "name": "python3"
  },
  "language_info": {
   "codemirror_mode": {
    "name": "ipython",
    "version": 3
   },
   "file_extension": ".py",
   "mimetype": "text/x-python",
   "name": "python",
   "nbconvert_exporter": "python",
   "pygments_lexer": "ipython3",
   "version": "3.12.4"
  }
 },
 "nbformat": 4,
 "nbformat_minor": 2
}
